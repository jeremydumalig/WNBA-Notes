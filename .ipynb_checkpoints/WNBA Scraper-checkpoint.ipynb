{
 "cells": [
  {
   "cell_type": "code",
   "execution_count": 1,
   "id": "8fef7740",
   "metadata": {},
   "outputs": [],
   "source": [
    "from selenium import webdriver\n",
    "from webdriver_manager.chrome import ChromeDriverManager\n",
    "from selenium.webdriver.chrome.service import Service\n",
    "from bs4 import BeautifulSoup\n",
    "import numpy as np\n",
    "import pandas as pd\n",
    "\n",
    "pd.set_option('display.max_columns', None)"
   ]
  },
  {
   "cell_type": "code",
   "execution_count": 2,
   "id": "984a519c",
   "metadata": {},
   "outputs": [],
   "source": [
    "def get_headers(per_game_table):\n",
    "    headers = [th.text for th in per_game_table.find(\"thead\").find_all(\"tr\")[1].find_all(\"th\")]\n",
    "\n",
    "    for i in np.arange(len(headers)):\n",
    "        h = headers[i]\n",
    "\n",
    "        if h in headers[:i]:\n",
    "            headers[i] = \"OPP_\" + headers[i]\n",
    "\n",
    "    return headers\n",
    "\n",
    "def get_cleaned_rows(per_game_table):\n",
    "    table_body = per_game_table.find(\"tbody\")\n",
    "    rows = table_body.find_all(\"tr\")\n",
    "    \n",
    "    def clean_row(row):\n",
    "        first_row_elements = row.find_all(\"td\")\n",
    "        first_row_elements = [row.find(\"th\").text] + [i.text for i in first_row_elements]\n",
    "\n",
    "        return first_row_elements\n",
    "    \n",
    "    return [clean_row(i) for i in rows]"
   ]
  },
  {
   "cell_type": "code",
   "execution_count": 3,
   "id": "0fe6c1d7",
   "metadata": {},
   "outputs": [],
   "source": [
    "def scrape_url(driver, url, team):\n",
    "    driver.get(url)\n",
    "    soup = BeautifulSoup(driver.page_source, 'html.parser')\n",
    "    \n",
    "    per_game_table = soup.find(\"table\", {\"id\" : \"wnba_tgl_basic\"})\n",
    "    \n",
    "    column_names = get_headers( per_game_table )\n",
    "    cleaned_rows = get_cleaned_rows( per_game_table )\n",
    "        \n",
    "    df = pd.DataFrame(cleaned_rows, columns=column_names)\n",
    "    df['Team'] = team\n",
    "    \n",
    "    return df"
   ]
  },
  {
   "cell_type": "code",
   "execution_count": 4,
   "id": "2031a44f",
   "metadata": {},
   "outputs": [],
   "source": [
    "teams_df = pd.read_csv(\"wnba_teams.csv\")\n",
    "teams = teams_df.set_index('Team')['Abbreviation'].to_dict()"
   ]
  },
  {
   "cell_type": "code",
   "execution_count": 5,
   "id": "fec4f700",
   "metadata": {
    "scrolled": false
   },
   "outputs": [
    {
     "name": "stdout",
     "output_type": "stream",
     "text": [
      "\n"
     ]
    },
    {
     "name": "stderr",
     "output_type": "stream",
     "text": [
      "[WDM] - ====== WebDriver manager ======\n",
      "[WDM] - Current google-chrome version is 114.0.5735\n",
      "[WDM] - Get LATEST chromedriver version for 114.0.5735 google-chrome\n",
      "[WDM] - Driver [/Users/jeremydumalig/.wdm/drivers/chromedriver/mac64/114.0.5735.90/chromedriver] found in cache\n",
      "/var/folders/91/7lxj2xq13852sql471wdl0pw0000gn/T/ipykernel_12974/3867478259.py:15: FutureWarning: Dropping of nuisance columns in DataFrame reductions (with 'numeric_only=None') is deprecated; in a future version this will raise TypeError.  Select only valid columns before calling the reduction.\n",
      "  df.loc['Total'] = df.sum(axis=0)\n",
      "/var/folders/91/7lxj2xq13852sql471wdl0pw0000gn/T/ipykernel_12974/3867478259.py:15: FutureWarning: Dropping of nuisance columns in DataFrame reductions (with 'numeric_only=None') is deprecated; in a future version this will raise TypeError.  Select only valid columns before calling the reduction.\n",
      "  df.loc['Total'] = df.sum(axis=0)\n",
      "/var/folders/91/7lxj2xq13852sql471wdl0pw0000gn/T/ipykernel_12974/3867478259.py:15: FutureWarning: Dropping of nuisance columns in DataFrame reductions (with 'numeric_only=None') is deprecated; in a future version this will raise TypeError.  Select only valid columns before calling the reduction.\n",
      "  df.loc['Total'] = df.sum(axis=0)\n",
      "/var/folders/91/7lxj2xq13852sql471wdl0pw0000gn/T/ipykernel_12974/3867478259.py:15: FutureWarning: Dropping of nuisance columns in DataFrame reductions (with 'numeric_only=None') is deprecated; in a future version this will raise TypeError.  Select only valid columns before calling the reduction.\n",
      "  df.loc['Total'] = df.sum(axis=0)\n",
      "/var/folders/91/7lxj2xq13852sql471wdl0pw0000gn/T/ipykernel_12974/3867478259.py:15: FutureWarning: Dropping of nuisance columns in DataFrame reductions (with 'numeric_only=None') is deprecated; in a future version this will raise TypeError.  Select only valid columns before calling the reduction.\n",
      "  df.loc['Total'] = df.sum(axis=0)\n",
      "/var/folders/91/7lxj2xq13852sql471wdl0pw0000gn/T/ipykernel_12974/3867478259.py:15: FutureWarning: Dropping of nuisance columns in DataFrame reductions (with 'numeric_only=None') is deprecated; in a future version this will raise TypeError.  Select only valid columns before calling the reduction.\n",
      "  df.loc['Total'] = df.sum(axis=0)\n",
      "/var/folders/91/7lxj2xq13852sql471wdl0pw0000gn/T/ipykernel_12974/3867478259.py:15: FutureWarning: Dropping of nuisance columns in DataFrame reductions (with 'numeric_only=None') is deprecated; in a future version this will raise TypeError.  Select only valid columns before calling the reduction.\n",
      "  df.loc['Total'] = df.sum(axis=0)\n",
      "/var/folders/91/7lxj2xq13852sql471wdl0pw0000gn/T/ipykernel_12974/3867478259.py:15: FutureWarning: Dropping of nuisance columns in DataFrame reductions (with 'numeric_only=None') is deprecated; in a future version this will raise TypeError.  Select only valid columns before calling the reduction.\n",
      "  df.loc['Total'] = df.sum(axis=0)\n",
      "/var/folders/91/7lxj2xq13852sql471wdl0pw0000gn/T/ipykernel_12974/3867478259.py:15: FutureWarning: Dropping of nuisance columns in DataFrame reductions (with 'numeric_only=None') is deprecated; in a future version this will raise TypeError.  Select only valid columns before calling the reduction.\n",
      "  df.loc['Total'] = df.sum(axis=0)\n",
      "/var/folders/91/7lxj2xq13852sql471wdl0pw0000gn/T/ipykernel_12974/3867478259.py:15: FutureWarning: Dropping of nuisance columns in DataFrame reductions (with 'numeric_only=None') is deprecated; in a future version this will raise TypeError.  Select only valid columns before calling the reduction.\n",
      "  df.loc['Total'] = df.sum(axis=0)\n",
      "/var/folders/91/7lxj2xq13852sql471wdl0pw0000gn/T/ipykernel_12974/3867478259.py:15: FutureWarning: Dropping of nuisance columns in DataFrame reductions (with 'numeric_only=None') is deprecated; in a future version this will raise TypeError.  Select only valid columns before calling the reduction.\n",
      "  df.loc['Total'] = df.sum(axis=0)\n",
      "/var/folders/91/7lxj2xq13852sql471wdl0pw0000gn/T/ipykernel_12974/3867478259.py:15: FutureWarning: Dropping of nuisance columns in DataFrame reductions (with 'numeric_only=None') is deprecated; in a future version this will raise TypeError.  Select only valid columns before calling the reduction.\n",
      "  df.loc['Total'] = df.sum(axis=0)\n"
     ]
    }
   ],
   "source": [
    "driver = webdriver.Chrome(service=Service(ChromeDriverManager().install()))\n",
    "\n",
    "dataframes = []\n",
    "for t in teams:\n",
    "    url = \"https://www.basketball-reference.com/wnba/teams/\" + teams[t] + \"/2023/gamelog/\"\n",
    "    \n",
    "    df = scrape_url(driver, url, t)\n",
    "    \n",
    "    for c in df.columns:\n",
    "        try:\n",
    "            df[c] = df[c].astype(float)\n",
    "        except ValueError:\n",
    "            pass\n",
    "    \n",
    "    df.loc['Total'] = df.sum(axis=0)\n",
    "    df['Team'] = list(df.Team)[:-1] + [t]\n",
    "    df['Opp'] = list(df.Opp)[:-1] + ['Total']\n",
    "    df['Date'] = list(df.Date)[:-1] + [list(df.Date)[-2]]\n",
    "    df['W/L'] = list(df['W/L'])[:-1] + ['']\n",
    "    df['GP'] = df.shape[0] - 1\n",
    "    \n",
    "    dataframes.append(df)\n",
    "\n",
    "driver.quit()"
   ]
  },
  {
   "cell_type": "code",
   "execution_count": 6,
   "id": "ad084c84",
   "metadata": {},
   "outputs": [
    {
     "ename": "IntCastingNaNError",
     "evalue": "Cannot convert non-finite values (NA or inf) to integer",
     "output_type": "error",
     "traceback": [
      "\u001b[0;31m---------------------------------------------------------------------------\u001b[0m",
      "\u001b[0;31mIntCastingNaNError\u001b[0m                        Traceback (most recent call last)",
      "Input \u001b[0;32mIn [6]\u001b[0m, in \u001b[0;36m<cell line: 4>\u001b[0;34m()\u001b[0m\n\u001b[1;32m      1\u001b[0m wnba_logs \u001b[38;5;241m=\u001b[39m pd\u001b[38;5;241m.\u001b[39mconcat(dataframes)\n\u001b[1;32m      2\u001b[0m wnba_logs \u001b[38;5;241m=\u001b[39m wnba_logs\u001b[38;5;241m.\u001b[39mreset_index(drop\u001b[38;5;241m=\u001b[39m\u001b[38;5;28;01mTrue\u001b[39;00m)\n\u001b[0;32m----> 4\u001b[0m wnba_logs[\u001b[38;5;124m'\u001b[39m\u001b[38;5;124mPOSS\u001b[39m\u001b[38;5;124m'\u001b[39m] \u001b[38;5;241m=\u001b[39m \u001b[38;5;241m0.96\u001b[39m \u001b[38;5;241m*\u001b[39m (\u001b[43mwnba_logs\u001b[49m\u001b[38;5;241;43m.\u001b[39;49m\u001b[43mFGA\u001b[49m\u001b[38;5;241;43m.\u001b[39;49m\u001b[43mastype\u001b[49m\u001b[43m(\u001b[49m\u001b[38;5;28;43mint\u001b[39;49m\u001b[43m)\u001b[49m \u001b[38;5;241m+\u001b[39m\n\u001b[1;32m      5\u001b[0m                             wnba_logs\u001b[38;5;241m.\u001b[39mTOV\u001b[38;5;241m.\u001b[39mastype(\u001b[38;5;28mint\u001b[39m) \u001b[38;5;241m+\u001b[39m \n\u001b[1;32m      6\u001b[0m                             \u001b[38;5;241m0.44\u001b[39m\u001b[38;5;241m*\u001b[39m(wnba_logs\u001b[38;5;241m.\u001b[39mFTA\u001b[38;5;241m.\u001b[39mastype(\u001b[38;5;28mint\u001b[39m)) \u001b[38;5;241m-\u001b[39m \n\u001b[1;32m      7\u001b[0m                             wnba_logs\u001b[38;5;241m.\u001b[39mORB\u001b[38;5;241m.\u001b[39mastype(\u001b[38;5;28mint\u001b[39m))\n\u001b[1;32m      8\u001b[0m wnba_logs[\u001b[38;5;124m'\u001b[39m\u001b[38;5;124mOPP_POSS\u001b[39m\u001b[38;5;124m'\u001b[39m] \u001b[38;5;241m=\u001b[39m \u001b[38;5;241m0.96\u001b[39m \u001b[38;5;241m*\u001b[39m (wnba_logs\u001b[38;5;241m.\u001b[39mOPP_FGA\u001b[38;5;241m.\u001b[39mastype(\u001b[38;5;28mint\u001b[39m) \u001b[38;5;241m+\u001b[39m\n\u001b[1;32m      9\u001b[0m                                 wnba_logs\u001b[38;5;241m.\u001b[39mOPP_TOV\u001b[38;5;241m.\u001b[39mastype(\u001b[38;5;28mint\u001b[39m) \u001b[38;5;241m+\u001b[39m \n\u001b[1;32m     10\u001b[0m                                 \u001b[38;5;241m0.44\u001b[39m\u001b[38;5;241m*\u001b[39m(wnba_logs\u001b[38;5;241m.\u001b[39mOPP_FTA\u001b[38;5;241m.\u001b[39mastype(\u001b[38;5;28mint\u001b[39m)) \u001b[38;5;241m-\u001b[39m \n\u001b[1;32m     11\u001b[0m                                 wnba_logs\u001b[38;5;241m.\u001b[39mOPP_ORB\u001b[38;5;241m.\u001b[39mastype(\u001b[38;5;28mint\u001b[39m))\n\u001b[1;32m     13\u001b[0m wnba_logs[\u001b[38;5;124m'\u001b[39m\u001b[38;5;124mPPP\u001b[39m\u001b[38;5;124m'\u001b[39m] \u001b[38;5;241m=\u001b[39m wnba_logs\u001b[38;5;241m.\u001b[39mTm\u001b[38;5;241m.\u001b[39mastype(\u001b[38;5;28mint\u001b[39m) \u001b[38;5;241m/\u001b[39m wnba_logs\u001b[38;5;241m.\u001b[39mPOSS\u001b[38;5;241m.\u001b[39mastype(\u001b[38;5;28mint\u001b[39m)\n",
      "File \u001b[0;32m/usr/local/lib/python3.9/site-packages/pandas/core/generic.py:5912\u001b[0m, in \u001b[0;36mNDFrame.astype\u001b[0;34m(self, dtype, copy, errors)\u001b[0m\n\u001b[1;32m   5905\u001b[0m     results \u001b[38;5;241m=\u001b[39m [\n\u001b[1;32m   5906\u001b[0m         \u001b[38;5;28mself\u001b[39m\u001b[38;5;241m.\u001b[39miloc[:, i]\u001b[38;5;241m.\u001b[39mastype(dtype, copy\u001b[38;5;241m=\u001b[39mcopy)\n\u001b[1;32m   5907\u001b[0m         \u001b[38;5;28;01mfor\u001b[39;00m i \u001b[38;5;129;01min\u001b[39;00m \u001b[38;5;28mrange\u001b[39m(\u001b[38;5;28mlen\u001b[39m(\u001b[38;5;28mself\u001b[39m\u001b[38;5;241m.\u001b[39mcolumns))\n\u001b[1;32m   5908\u001b[0m     ]\n\u001b[1;32m   5910\u001b[0m \u001b[38;5;28;01melse\u001b[39;00m:\n\u001b[1;32m   5911\u001b[0m     \u001b[38;5;66;03m# else, only a single dtype is given\u001b[39;00m\n\u001b[0;32m-> 5912\u001b[0m     new_data \u001b[38;5;241m=\u001b[39m \u001b[38;5;28;43mself\u001b[39;49m\u001b[38;5;241;43m.\u001b[39;49m\u001b[43m_mgr\u001b[49m\u001b[38;5;241;43m.\u001b[39;49m\u001b[43mastype\u001b[49m\u001b[43m(\u001b[49m\u001b[43mdtype\u001b[49m\u001b[38;5;241;43m=\u001b[39;49m\u001b[43mdtype\u001b[49m\u001b[43m,\u001b[49m\u001b[43m \u001b[49m\u001b[43mcopy\u001b[49m\u001b[38;5;241;43m=\u001b[39;49m\u001b[43mcopy\u001b[49m\u001b[43m,\u001b[49m\u001b[43m \u001b[49m\u001b[43merrors\u001b[49m\u001b[38;5;241;43m=\u001b[39;49m\u001b[43merrors\u001b[49m\u001b[43m)\u001b[49m\n\u001b[1;32m   5913\u001b[0m     \u001b[38;5;28;01mreturn\u001b[39;00m \u001b[38;5;28mself\u001b[39m\u001b[38;5;241m.\u001b[39m_constructor(new_data)\u001b[38;5;241m.\u001b[39m__finalize__(\u001b[38;5;28mself\u001b[39m, method\u001b[38;5;241m=\u001b[39m\u001b[38;5;124m\"\u001b[39m\u001b[38;5;124mastype\u001b[39m\u001b[38;5;124m\"\u001b[39m)\n\u001b[1;32m   5915\u001b[0m \u001b[38;5;66;03m# GH 33113: handle empty frame or series\u001b[39;00m\n",
      "File \u001b[0;32m/usr/local/lib/python3.9/site-packages/pandas/core/internals/managers.py:419\u001b[0m, in \u001b[0;36mBaseBlockManager.astype\u001b[0;34m(self, dtype, copy, errors)\u001b[0m\n\u001b[1;32m    418\u001b[0m \u001b[38;5;28;01mdef\u001b[39;00m \u001b[38;5;21mastype\u001b[39m(\u001b[38;5;28mself\u001b[39m: T, dtype, copy: \u001b[38;5;28mbool\u001b[39m \u001b[38;5;241m=\u001b[39m \u001b[38;5;28;01mFalse\u001b[39;00m, errors: \u001b[38;5;28mstr\u001b[39m \u001b[38;5;241m=\u001b[39m \u001b[38;5;124m\"\u001b[39m\u001b[38;5;124mraise\u001b[39m\u001b[38;5;124m\"\u001b[39m) \u001b[38;5;241m-\u001b[39m\u001b[38;5;241m>\u001b[39m T:\n\u001b[0;32m--> 419\u001b[0m     \u001b[38;5;28;01mreturn\u001b[39;00m \u001b[38;5;28;43mself\u001b[39;49m\u001b[38;5;241;43m.\u001b[39;49m\u001b[43mapply\u001b[49m\u001b[43m(\u001b[49m\u001b[38;5;124;43m\"\u001b[39;49m\u001b[38;5;124;43mastype\u001b[39;49m\u001b[38;5;124;43m\"\u001b[39;49m\u001b[43m,\u001b[49m\u001b[43m \u001b[49m\u001b[43mdtype\u001b[49m\u001b[38;5;241;43m=\u001b[39;49m\u001b[43mdtype\u001b[49m\u001b[43m,\u001b[49m\u001b[43m \u001b[49m\u001b[43mcopy\u001b[49m\u001b[38;5;241;43m=\u001b[39;49m\u001b[43mcopy\u001b[49m\u001b[43m,\u001b[49m\u001b[43m \u001b[49m\u001b[43merrors\u001b[49m\u001b[38;5;241;43m=\u001b[39;49m\u001b[43merrors\u001b[49m\u001b[43m)\u001b[49m\n",
      "File \u001b[0;32m/usr/local/lib/python3.9/site-packages/pandas/core/internals/managers.py:304\u001b[0m, in \u001b[0;36mBaseBlockManager.apply\u001b[0;34m(self, f, align_keys, ignore_failures, **kwargs)\u001b[0m\n\u001b[1;32m    302\u001b[0m         applied \u001b[38;5;241m=\u001b[39m b\u001b[38;5;241m.\u001b[39mapply(f, \u001b[38;5;241m*\u001b[39m\u001b[38;5;241m*\u001b[39mkwargs)\n\u001b[1;32m    303\u001b[0m     \u001b[38;5;28;01melse\u001b[39;00m:\n\u001b[0;32m--> 304\u001b[0m         applied \u001b[38;5;241m=\u001b[39m \u001b[38;5;28;43mgetattr\u001b[39;49m\u001b[43m(\u001b[49m\u001b[43mb\u001b[49m\u001b[43m,\u001b[49m\u001b[43m \u001b[49m\u001b[43mf\u001b[49m\u001b[43m)\u001b[49m\u001b[43m(\u001b[49m\u001b[38;5;241;43m*\u001b[39;49m\u001b[38;5;241;43m*\u001b[39;49m\u001b[43mkwargs\u001b[49m\u001b[43m)\u001b[49m\n\u001b[1;32m    305\u001b[0m \u001b[38;5;28;01mexcept\u001b[39;00m (\u001b[38;5;167;01mTypeError\u001b[39;00m, \u001b[38;5;167;01mNotImplementedError\u001b[39;00m):\n\u001b[1;32m    306\u001b[0m     \u001b[38;5;28;01mif\u001b[39;00m \u001b[38;5;129;01mnot\u001b[39;00m ignore_failures:\n",
      "File \u001b[0;32m/usr/local/lib/python3.9/site-packages/pandas/core/internals/blocks.py:580\u001b[0m, in \u001b[0;36mBlock.astype\u001b[0;34m(self, dtype, copy, errors)\u001b[0m\n\u001b[1;32m    562\u001b[0m \u001b[38;5;124;03m\"\"\"\u001b[39;00m\n\u001b[1;32m    563\u001b[0m \u001b[38;5;124;03mCoerce to the new dtype.\u001b[39;00m\n\u001b[1;32m    564\u001b[0m \n\u001b[0;32m   (...)\u001b[0m\n\u001b[1;32m    576\u001b[0m \u001b[38;5;124;03mBlock\u001b[39;00m\n\u001b[1;32m    577\u001b[0m \u001b[38;5;124;03m\"\"\"\u001b[39;00m\n\u001b[1;32m    578\u001b[0m values \u001b[38;5;241m=\u001b[39m \u001b[38;5;28mself\u001b[39m\u001b[38;5;241m.\u001b[39mvalues\n\u001b[0;32m--> 580\u001b[0m new_values \u001b[38;5;241m=\u001b[39m \u001b[43mastype_array_safe\u001b[49m\u001b[43m(\u001b[49m\u001b[43mvalues\u001b[49m\u001b[43m,\u001b[49m\u001b[43m \u001b[49m\u001b[43mdtype\u001b[49m\u001b[43m,\u001b[49m\u001b[43m \u001b[49m\u001b[43mcopy\u001b[49m\u001b[38;5;241;43m=\u001b[39;49m\u001b[43mcopy\u001b[49m\u001b[43m,\u001b[49m\u001b[43m \u001b[49m\u001b[43merrors\u001b[49m\u001b[38;5;241;43m=\u001b[39;49m\u001b[43merrors\u001b[49m\u001b[43m)\u001b[49m\n\u001b[1;32m    582\u001b[0m new_values \u001b[38;5;241m=\u001b[39m maybe_coerce_values(new_values)\n\u001b[1;32m    583\u001b[0m newb \u001b[38;5;241m=\u001b[39m \u001b[38;5;28mself\u001b[39m\u001b[38;5;241m.\u001b[39mmake_block(new_values)\n",
      "File \u001b[0;32m/usr/local/lib/python3.9/site-packages/pandas/core/dtypes/cast.py:1292\u001b[0m, in \u001b[0;36mastype_array_safe\u001b[0;34m(values, dtype, copy, errors)\u001b[0m\n\u001b[1;32m   1289\u001b[0m     dtype \u001b[38;5;241m=\u001b[39m dtype\u001b[38;5;241m.\u001b[39mnumpy_dtype\n\u001b[1;32m   1291\u001b[0m \u001b[38;5;28;01mtry\u001b[39;00m:\n\u001b[0;32m-> 1292\u001b[0m     new_values \u001b[38;5;241m=\u001b[39m \u001b[43mastype_array\u001b[49m\u001b[43m(\u001b[49m\u001b[43mvalues\u001b[49m\u001b[43m,\u001b[49m\u001b[43m \u001b[49m\u001b[43mdtype\u001b[49m\u001b[43m,\u001b[49m\u001b[43m \u001b[49m\u001b[43mcopy\u001b[49m\u001b[38;5;241;43m=\u001b[39;49m\u001b[43mcopy\u001b[49m\u001b[43m)\u001b[49m\n\u001b[1;32m   1293\u001b[0m \u001b[38;5;28;01mexcept\u001b[39;00m (\u001b[38;5;167;01mValueError\u001b[39;00m, \u001b[38;5;167;01mTypeError\u001b[39;00m):\n\u001b[1;32m   1294\u001b[0m     \u001b[38;5;66;03m# e.g. astype_nansafe can fail on object-dtype of strings\u001b[39;00m\n\u001b[1;32m   1295\u001b[0m     \u001b[38;5;66;03m#  trying to convert to float\u001b[39;00m\n\u001b[1;32m   1296\u001b[0m     \u001b[38;5;28;01mif\u001b[39;00m errors \u001b[38;5;241m==\u001b[39m \u001b[38;5;124m\"\u001b[39m\u001b[38;5;124mignore\u001b[39m\u001b[38;5;124m\"\u001b[39m:\n",
      "File \u001b[0;32m/usr/local/lib/python3.9/site-packages/pandas/core/dtypes/cast.py:1237\u001b[0m, in \u001b[0;36mastype_array\u001b[0;34m(values, dtype, copy)\u001b[0m\n\u001b[1;32m   1234\u001b[0m     values \u001b[38;5;241m=\u001b[39m values\u001b[38;5;241m.\u001b[39mastype(dtype, copy\u001b[38;5;241m=\u001b[39mcopy)\n\u001b[1;32m   1236\u001b[0m \u001b[38;5;28;01melse\u001b[39;00m:\n\u001b[0;32m-> 1237\u001b[0m     values \u001b[38;5;241m=\u001b[39m \u001b[43mastype_nansafe\u001b[49m\u001b[43m(\u001b[49m\u001b[43mvalues\u001b[49m\u001b[43m,\u001b[49m\u001b[43m \u001b[49m\u001b[43mdtype\u001b[49m\u001b[43m,\u001b[49m\u001b[43m \u001b[49m\u001b[43mcopy\u001b[49m\u001b[38;5;241;43m=\u001b[39;49m\u001b[43mcopy\u001b[49m\u001b[43m)\u001b[49m\n\u001b[1;32m   1239\u001b[0m \u001b[38;5;66;03m# in pandas we don't store numpy str dtypes, so convert to object\u001b[39;00m\n\u001b[1;32m   1240\u001b[0m \u001b[38;5;28;01mif\u001b[39;00m \u001b[38;5;28misinstance\u001b[39m(dtype, np\u001b[38;5;241m.\u001b[39mdtype) \u001b[38;5;129;01mand\u001b[39;00m \u001b[38;5;28missubclass\u001b[39m(values\u001b[38;5;241m.\u001b[39mdtype\u001b[38;5;241m.\u001b[39mtype, \u001b[38;5;28mstr\u001b[39m):\n",
      "File \u001b[0;32m/usr/local/lib/python3.9/site-packages/pandas/core/dtypes/cast.py:1148\u001b[0m, in \u001b[0;36mastype_nansafe\u001b[0;34m(arr, dtype, copy, skipna)\u001b[0m\n\u001b[1;32m   1145\u001b[0m     \u001b[38;5;28;01mraise\u001b[39;00m \u001b[38;5;167;01mTypeError\u001b[39;00m(\u001b[38;5;124mf\u001b[39m\u001b[38;5;124m\"\u001b[39m\u001b[38;5;124mcannot astype a timedelta from [\u001b[39m\u001b[38;5;132;01m{\u001b[39;00marr\u001b[38;5;241m.\u001b[39mdtype\u001b[38;5;132;01m}\u001b[39;00m\u001b[38;5;124m] to [\u001b[39m\u001b[38;5;132;01m{\u001b[39;00mdtype\u001b[38;5;132;01m}\u001b[39;00m\u001b[38;5;124m]\u001b[39m\u001b[38;5;124m\"\u001b[39m)\n\u001b[1;32m   1147\u001b[0m \u001b[38;5;28;01melif\u001b[39;00m np\u001b[38;5;241m.\u001b[39missubdtype(arr\u001b[38;5;241m.\u001b[39mdtype, np\u001b[38;5;241m.\u001b[39mfloating) \u001b[38;5;129;01mand\u001b[39;00m np\u001b[38;5;241m.\u001b[39missubdtype(dtype, np\u001b[38;5;241m.\u001b[39minteger):\n\u001b[0;32m-> 1148\u001b[0m     \u001b[38;5;28;01mreturn\u001b[39;00m \u001b[43mastype_float_to_int_nansafe\u001b[49m\u001b[43m(\u001b[49m\u001b[43marr\u001b[49m\u001b[43m,\u001b[49m\u001b[43m \u001b[49m\u001b[43mdtype\u001b[49m\u001b[43m,\u001b[49m\u001b[43m \u001b[49m\u001b[43mcopy\u001b[49m\u001b[43m)\u001b[49m\n\u001b[1;32m   1150\u001b[0m \u001b[38;5;28;01melif\u001b[39;00m is_object_dtype(arr\u001b[38;5;241m.\u001b[39mdtype):\n\u001b[1;32m   1151\u001b[0m \n\u001b[1;32m   1152\u001b[0m     \u001b[38;5;66;03m# work around NumPy brokenness, #1987\u001b[39;00m\n\u001b[1;32m   1153\u001b[0m     \u001b[38;5;28;01mif\u001b[39;00m np\u001b[38;5;241m.\u001b[39missubdtype(dtype\u001b[38;5;241m.\u001b[39mtype, np\u001b[38;5;241m.\u001b[39minteger):\n",
      "File \u001b[0;32m/usr/local/lib/python3.9/site-packages/pandas/core/dtypes/cast.py:1193\u001b[0m, in \u001b[0;36mastype_float_to_int_nansafe\u001b[0;34m(values, dtype, copy)\u001b[0m\n\u001b[1;32m   1189\u001b[0m \u001b[38;5;124;03m\"\"\"\u001b[39;00m\n\u001b[1;32m   1190\u001b[0m \u001b[38;5;124;03mastype with a check preventing converting NaN to an meaningless integer value.\u001b[39;00m\n\u001b[1;32m   1191\u001b[0m \u001b[38;5;124;03m\"\"\"\u001b[39;00m\n\u001b[1;32m   1192\u001b[0m \u001b[38;5;28;01mif\u001b[39;00m \u001b[38;5;129;01mnot\u001b[39;00m np\u001b[38;5;241m.\u001b[39misfinite(values)\u001b[38;5;241m.\u001b[39mall():\n\u001b[0;32m-> 1193\u001b[0m     \u001b[38;5;28;01mraise\u001b[39;00m IntCastingNaNError(\n\u001b[1;32m   1194\u001b[0m         \u001b[38;5;124m\"\u001b[39m\u001b[38;5;124mCannot convert non-finite values (NA or inf) to integer\u001b[39m\u001b[38;5;124m\"\u001b[39m\n\u001b[1;32m   1195\u001b[0m     )\n\u001b[1;32m   1196\u001b[0m \u001b[38;5;28;01mreturn\u001b[39;00m values\u001b[38;5;241m.\u001b[39mastype(dtype, copy\u001b[38;5;241m=\u001b[39mcopy)\n",
      "\u001b[0;31mIntCastingNaNError\u001b[0m: Cannot convert non-finite values (NA or inf) to integer"
     ]
    }
   ],
   "source": [
    "wnba_logs = pd.concat(dataframes)\n",
    "wnba_logs = wnba_logs.reset_index(drop=True)\n",
    "\n",
    "wnba_logs['POSS'] = 0.96 * (wnba_logs.FGA.astype(int) +\n",
    "                            wnba_logs.TOV.astype(int) + \n",
    "                            0.44*(wnba_logs.FTA.astype(int)) - \n",
    "                            wnba_logs.ORB.astype(int))\n",
    "wnba_logs['OPP_POSS'] = 0.96 * (wnba_logs.OPP_FGA.astype(int) +\n",
    "                                wnba_logs.OPP_TOV.astype(int) + \n",
    "                                0.44*(wnba_logs.OPP_FTA.astype(int)) - \n",
    "                                wnba_logs.OPP_ORB.astype(int))\n",
    "\n",
    "wnba_logs['PPP'] = wnba_logs.Tm.astype(int) / wnba_logs.POSS.astype(int)\n",
    "wnba_logs['OPP_PPP'] = wnba_logs.OPP_Opp.astype(int) / wnba_logs.OPP_POSS.astype(int)\n",
    "wnba_logs['Final'] = wnba_logs.Tm.astype(int).astype(str) + \"-\" + wnba_logs.OPP_Opp.astype(int).astype(str)\n",
    "\n",
    "wnba_logs['3PA%'] = 100 * wnba_logs['3PA'].astype(int) / wnba_logs.FGA.astype(int)\n",
    "wnba_logs['OPP_3PA%'] = 100 * wnba_logs['OPP_3PA'].astype(int) / wnba_logs.OPP_FGA.astype(int)\n",
    "\n",
    "wnba_logs['FTA%'] = 100 * wnba_logs['FTA'].astype(int) / wnba_logs['FGA'].astype(int)\n",
    "wnba_logs['OPP_FTA%'] = 100 * wnba_logs.OPP_FTA.astype(int) / wnba_logs.OPP_FGA.astype(int)\n",
    "\n",
    "wnba_logs['DRB'] = wnba_logs.TRB.astype(int) - wnba_logs.ORB.astype(int)\n",
    "wnba_logs['OPP_DRB'] = wnba_logs.OPP_TRB.astype(int) - wnba_logs.OPP_ORB.astype(int)\n",
    "wnba_logs['REB'] = wnba_logs.ORB.astype(int) + wnba_logs.DRB.astype(int)\n",
    "wnba_logs['OPP_REB'] = wnba_logs.OPP_ORB.astype(int) + wnba_logs.OPP_DRB.astype(int)\n",
    "wnba_logs['ORB%'] = 100 * wnba_logs.ORB.astype(int) / (wnba_logs.ORB.astype(int) + wnba_logs.OPP_DRB.astype(int))\n",
    "wnba_logs['DRB%'] = 100 * wnba_logs.DRB.astype(int) / (wnba_logs.DRB.astype(int) + wnba_logs.OPP_ORB.astype(int))\n",
    "wnba_logs['REB%'] = 100 * wnba_logs.REB.astype(int) / (wnba_logs.REB.astype(int) + wnba_logs.OPP_REB.astype(int))\n",
    "wnba_logs['OPP_ORB%'] = 100 * wnba_logs.OPP_ORB.astype(int) / (wnba_logs.OPP_ORB.astype(int) + wnba_logs.DRB.astype(int))\n",
    "wnba_logs['OPP_DRB%'] = 100 * wnba_logs.OPP_DRB.astype(int) / (wnba_logs.OPP_DRB.astype(int) + wnba_logs.ORB.astype(int))\n",
    "wnba_logs['OPP_REB%'] = 100 * wnba_logs.OPP_REB.astype(int) / (wnba_logs.OPP_REB.astype(int) + wnba_logs.REB.astype(int))\n",
    "\n",
    "wnba_logs['TO%'] = 100 * wnba_logs.TOV.astype(int) / wnba_logs.POSS.astype(int)\n",
    "wnba_logs['OPP_TO%'] = 100 * wnba_logs.OPP_TOV.astype(int) / wnba_logs.OPP_POSS.astype(int)\n",
    "\n",
    "# Splits and Percentages\n",
    "wnba_logs['FG%'] = 100 * wnba_logs.FG.astype(int) / wnba_logs.FGA.astype(int)\n",
    "wnba_logs['FGA'] = wnba_logs.FG.astype(int).astype(str) + \"-\" + wnba_logs.FGA.astype(int).astype(str)\n",
    "wnba_logs['3P%'] = 100 * wnba_logs['3P'].astype(int) / wnba_logs['3PA'].astype(int)\n",
    "wnba_logs['3PA'] = wnba_logs['3P'].astype(int).astype(str) + \"-\" + wnba_logs['3PA'].astype(int).astype(str)\n",
    "wnba_logs['FT%'] = 100 * wnba_logs.FT.astype(int) / wnba_logs.FTA.astype(int)\n",
    "wnba_logs['FTA'] = wnba_logs.FT.astype(int).astype(str) + \"-\" + wnba_logs.FTA.astype(int).astype(str)\n",
    "wnba_logs['OPP_FG%'] = 100 * wnba_logs.OPP_FG.astype(int) / wnba_logs.OPP_FGA.astype(int)\n",
    "wnba_logs['OPP_FGA'] = wnba_logs.OPP_FG.astype(int).astype(str) + \"-\" + wnba_logs.OPP_FGA.astype(int).astype(str)\n",
    "wnba_logs['OPP_3P%'] = 100 * wnba_logs['OPP_3P'].astype(int) / wnba_logs['OPP_3PA'].astype(int)\n",
    "wnba_logs['OPP_3PA'] = wnba_logs['OPP_3P'].astype(int).astype(str) + \"-\" + wnba_logs['OPP_3PA'].astype(int).astype(str)\n",
    "wnba_logs['OPP_FT%'] = 100 * wnba_logs.OPP_FT.astype(int) / wnba_logs.OPP_FTA.astype(int)\n",
    "wnba_logs['OPP_FTA'] = wnba_logs.OPP_FT.astype(int).astype(str) + \"-\" + wnba_logs.OPP_FTA.astype(int).astype(str)\n",
    "wnba_logs['REB'] = wnba_logs.REB.astype(str) + \"-\" + wnba_logs.OPP_REB.astype(str)\n",
    "\n",
    "wnba_logs['Date'] = pd.to_datetime(wnba_logs.Date)\n",
    "wnba_logs['Team'] = wnba_logs.Team.apply(lambda i : teams[i])\n",
    "wnba_logs['Opponent'] = wnba_logs.Opp\n",
    "wnba_logs['POSS'] = wnba_logs.apply(lambda row : (row.POSS / row.GP) if (row.Opponent == \"Total\") else row.POSS, axis=1)\n",
    "wnba_logs['OPP_POSS'] = wnba_logs.apply(lambda row : (row.OPP_POSS / row.GP) if (row.Opponent == \"Total\") else row.OPP_POSS, axis=1)\n",
    "wnba_logs['Margin'] = wnba_logs['Final'].apply(lambda i : int(i.split(\"-\")[0]) - int(i.split(\"-\")[1]))\n",
    "\n",
    "wnba_logs = wnba_logs.round(2)\n",
    "\n",
    "selected_cols = ['Date', 'Team', 'Opponent', 'W/L', 'Margin',\n",
    "                 'POSS', 'OPP_POSS',\n",
    "                 'PPP', 'OPP_PPP', \n",
    "                 '3PA%', 'OPP_3PA%', 'FTA%', 'OPP_FTA%',\n",
    "                 'ORB%', 'DRB%', 'REB%', 'REB',\n",
    "                 'TO%', 'OPP_TO%',\n",
    "                 'FGA', 'FG%', 'OPP_FGA', 'OPP_FG%',\n",
    "                 '3PA', '3P%', 'OPP_3PA', 'OPP_3P%',\n",
    "                 'FTA', 'FT%', 'OPP_FTA', 'OPP_FT%']\n",
    "\n",
    "for c in selected_cols:\n",
    "    if (wnba_logs[c].dtype in [int, float]) and (c not in ['PPP', 'OPP_PPP']):\n",
    "        wnba_logs[c] = wnba_logs[c].round(1)\n",
    "    else:\n",
    "        pass\n",
    "    \n",
    "wnba_logs = wnba_logs[selected_cols]"
   ]
  },
  {
   "cell_type": "code",
   "execution_count": null,
   "id": "d216741b",
   "metadata": {},
   "outputs": [],
   "source": [
    "wnba_logs[(wnba_logs.Opponent != \"Total\")].to_csv(\"wnba_logs.csv\")\n",
    "wnba_logs[(wnba_logs.Opponent == \"Total\")].to_csv(\"wnba_logs_totals.csv\")"
   ]
  },
  {
   "cell_type": "code",
   "execution_count": null,
   "id": "b1291e62",
   "metadata": {},
   "outputs": [],
   "source": []
  }
 ],
 "metadata": {
  "kernelspec": {
   "display_name": "Python 3 (ipykernel)",
   "language": "python",
   "name": "python3"
  },
  "language_info": {
   "codemirror_mode": {
    "name": "ipython",
    "version": 3
   },
   "file_extension": ".py",
   "mimetype": "text/x-python",
   "name": "python",
   "nbconvert_exporter": "python",
   "pygments_lexer": "ipython3",
   "version": "3.9.13"
  }
 },
 "nbformat": 4,
 "nbformat_minor": 5
}
