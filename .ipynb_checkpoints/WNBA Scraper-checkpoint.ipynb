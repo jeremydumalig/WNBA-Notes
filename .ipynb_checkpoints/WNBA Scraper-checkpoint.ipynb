{
 "cells": [
  {
   "cell_type": "code",
   "execution_count": 11,
   "id": "8fef7740",
   "metadata": {},
   "outputs": [],
   "source": [
    "from selenium import webdriver\n",
    "from webdriver_manager.chrome import ChromeDriverManager\n",
    "from selenium.webdriver.chrome.service import Service\n",
    "from bs4 import BeautifulSoup\n",
    "import numpy as np\n",
    "import pandas as pd\n",
    "\n",
    "pd.set_option('display.max_columns', None)"
   ]
  },
  {
   "cell_type": "code",
   "execution_count": 12,
   "id": "984a519c",
   "metadata": {},
   "outputs": [],
   "source": [
    "def get_headers(per_game_table):\n",
    "    headers = [th.text for th in per_game_table.find(\"thead\").find_all(\"tr\")[1].find_all(\"th\")]\n",
    "\n",
    "    for i in np.arange(len(headers)):\n",
    "        h = headers[i]\n",
    "\n",
    "        if h in headers[:i]:\n",
    "            headers[i] = \"OPP_\" + headers[i]\n",
    "\n",
    "    return headers\n",
    "\n",
    "def get_cleaned_rows(per_game_table):\n",
    "    table_body = per_game_table.find(\"tbody\")\n",
    "    rows = table_body.find_all(\"tr\")\n",
    "    \n",
    "    def clean_row(row):\n",
    "        first_row_elements = row.find_all(\"td\")\n",
    "        first_row_elements = [row.find(\"th\").text] + [i.text for i in first_row_elements]\n",
    "\n",
    "        return first_row_elements\n",
    "    \n",
    "    return [clean_row(i) for i in rows]"
   ]
  },
  {
   "cell_type": "code",
   "execution_count": 13,
   "id": "0fe6c1d7",
   "metadata": {},
   "outputs": [],
   "source": [
    "def scrape_url(driver, url, team):\n",
    "    driver.get(url)\n",
    "    soup = BeautifulSoup(driver.page_source, 'html.parser')\n",
    "    \n",
    "    per_game_table = soup.find(\"table\", {\"id\" : \"wnba_tgl_basic\"})\n",
    "    \n",
    "    column_names = get_headers( per_game_table )\n",
    "    cleaned_rows = get_cleaned_rows( per_game_table )\n",
    "        \n",
    "    df = pd.DataFrame(cleaned_rows, columns=column_names)\n",
    "    df['Team'] = team\n",
    "    \n",
    "    return df"
   ]
  },
  {
   "cell_type": "code",
   "execution_count": 14,
   "id": "2031a44f",
   "metadata": {},
   "outputs": [],
   "source": [
    "teams_df = pd.read_csv(\"wnba_teams.csv\")\n",
    "teams = teams_df.set_index('Team')['Abbreviation'].to_dict()"
   ]
  },
  {
   "cell_type": "code",
   "execution_count": 15,
   "id": "fec4f700",
   "metadata": {
    "scrolled": false
   },
   "outputs": [
    {
     "name": "stdout",
     "output_type": "stream",
     "text": [
      "\n"
     ]
    },
    {
     "name": "stderr",
     "output_type": "stream",
     "text": [
      "[WDM] - ====== WebDriver manager ======\n",
      "[WDM] - Current google-chrome version is 113.0.5672\n",
      "[WDM] - Get LATEST chromedriver version for 113.0.5672 google-chrome\n",
      "[WDM] - Driver [/Users/jeremydumalig/.wdm/drivers/chromedriver/mac64/113.0.5672.63/chromedriver] found in cache\n"
     ]
    }
   ],
   "source": [
    "driver = webdriver.Chrome(service=Service(ChromeDriverManager().install()))\n",
    "\n",
    "dataframes = []\n",
    "for t in teams:\n",
    "    url = \"https://www.basketball-reference.com/wnba/teams/\" + teams[t] + \"/2023/gamelog/\"\n",
    "    \n",
    "    dataframes.append( scrape_url(driver, url, t) )\n",
    "\n",
    "driver.quit()"
   ]
  },
  {
   "cell_type": "code",
   "execution_count": 21,
   "id": "ad084c84",
   "metadata": {},
   "outputs": [],
   "source": [
    "wnba_logs = pd.concat(dataframes)\n",
    "wnba_logs = wnba_logs.reset_index(drop=True)\n",
    "\n",
    "wnba_logs['POSS'] = 0.96 * (wnba_logs.FGA.astype(int) +\n",
    "                            wnba_logs.TOV.astype(int) + \n",
    "                            0.44*(wnba_logs.FTA.astype(int)) - \n",
    "                            wnba_logs.ORB.astype(int))\n",
    "wnba_logs['OPP_POSS'] = 0.96 * (wnba_logs.OPP_FGA.astype(int) +\n",
    "                                wnba_logs.OPP_TOV.astype(int) + \n",
    "                                0.44*(wnba_logs.OPP_FTA.astype(int)) - \n",
    "                                wnba_logs.OPP_ORB.astype(int))\n",
    "\n",
    "wnba_logs['PPP'] = wnba_logs.Tm.astype(int) / wnba_logs.POSS.astype(int)\n",
    "wnba_logs['OPP_PPP'] = wnba_logs.OPP_Opp.astype(int) / wnba_logs.OPP_POSS.astype(int)\n",
    "wnba_logs['Final'] = wnba_logs.Tm.astype(str) + \"-\" + wnba_logs.OPP_Opp.astype(str)\n",
    "\n",
    "wnba_logs['FTA%'] = 100 * wnba_logs['FTA'].astype(int) / wnba_logs['FGA'].astype(int)\n",
    "wnba_logs['OPP_FTA%'] = 100 * wnba_logs.OPP_FTA.astype(int) / wnba_logs.OPP_FGA.astype(int)\n",
    "\n",
    "wnba_logs['DRB'] = wnba_logs.TRB.astype(int) - wnba_logs.ORB.astype(int)\n",
    "wnba_logs['OPP_DRB'] = wnba_logs.OPP_TRB.astype(int) - wnba_logs.OPP_ORB.astype(int)\n",
    "wnba_logs['REB'] = wnba_logs.ORB.astype(int) + wnba_logs.DRB.astype(int)\n",
    "wnba_logs['OPP_REB'] = wnba_logs.OPP_ORB.astype(int) + wnba_logs.OPP_DRB.astype(int)\n",
    "wnba_logs['ORB%'] = 100 * wnba_logs.ORB.astype(int) / (wnba_logs.ORB.astype(int) + wnba_logs.OPP_DRB.astype(int))\n",
    "wnba_logs['DRB%'] = 100 * wnba_logs.DRB.astype(int) / (wnba_logs.DRB.astype(int) + wnba_logs.OPP_ORB.astype(int))\n",
    "wnba_logs['REB%'] = 100 * wnba_logs.REB.astype(int) / (wnba_logs.REB.astype(int) + wnba_logs.OPP_REB.astype(int))\n",
    "wnba_logs['OPP_ORB%'] = 100 * wnba_logs.OPP_ORB.astype(int) / (wnba_logs.OPP_ORB.astype(int) + wnba_logs.DRB.astype(int))\n",
    "wnba_logs['OPP_DRB%'] = 100 * wnba_logs.OPP_DRB.astype(int) / (wnba_logs.OPP_DRB.astype(int) + wnba_logs.ORB.astype(int))\n",
    "wnba_logs['OPP_REB%'] = 100 * wnba_logs.OPP_REB.astype(int) / (wnba_logs.OPP_REB.astype(int) + wnba_logs.REB.astype(int))\n",
    "\n",
    "wnba_logs['TO%'] = 100 * wnba_logs.TOV.astype(int) / wnba_logs.POSS.astype(int)\n",
    "wnba_logs['OPP_TO%'] = 100 * wnba_logs.OPP_TOV.astype(int) / wnba_logs.OPP_POSS.astype(int)\n",
    "\n",
    "# Splits and Percentages\n",
    "wnba_logs['FG%'] = 100 * wnba_logs.FG.astype(int) / wnba_logs.FGA.astype(int)\n",
    "wnba_logs['FGA'] = wnba_logs.FG.astype(str) + \"-\" + wnba_logs.FGA.astype(str)\n",
    "wnba_logs['3P%'] = 100 * wnba_logs['3P'].astype(int) / wnba_logs['3PA'].astype(int)\n",
    "wnba_logs['3PA'] = wnba_logs['3P'].astype(str) + \"-\" + wnba_logs['3PA'].astype(str)\n",
    "wnba_logs['FT%'] = 100 * wnba_logs.FT.astype(int) / wnba_logs.FTA.astype(int)\n",
    "wnba_logs['FTA'] = wnba_logs.FT.astype(str) + \"-\" + wnba_logs.FTA.astype(str)\n",
    "wnba_logs['OPP_FG%'] = 100 * wnba_logs.OPP_FG.astype(int) / wnba_logs.OPP_FGA.astype(int)\n",
    "wnba_logs['OPP_FGA'] = wnba_logs.OPP_FG.astype(str) + \"-\" + wnba_logs.OPP_FGA.astype(str)\n",
    "wnba_logs['OPP_3P%'] = 100 * wnba_logs['OPP_3P'].astype(int) / wnba_logs['OPP_3PA'].astype(int)\n",
    "wnba_logs['OPP_3PA'] = wnba_logs['OPP_3P'].astype(str) + \"-\" + wnba_logs['OPP_3PA'].astype(str)\n",
    "wnba_logs['OPP_FT%'] = 100 * wnba_logs.OPP_FT.astype(int) / wnba_logs.OPP_FTA.astype(int)\n",
    "wnba_logs['OPP_FTA'] = wnba_logs.OPP_FT.astype(str) + \"-\" + wnba_logs.OPP_FTA.astype(str)\n",
    "wnba_logs['REB'] = wnba_logs.REB.astype(str) + \"-\" + wnba_logs.OPP_REB.astype(str)\n",
    "\n",
    "wnba_logs['Date'] = pd.to_datetime(wnba_logs.Date)\n",
    "wnba_logs['Team'] = wnba_logs.Team.apply(lambda i : teams[i])\n",
    "wnba_logs['Opponent'] = wnba_logs.Opp\n",
    "\n",
    "wnba_logs = wnba_logs.round(2)\n",
    "\n",
    "selected_cols = ['Date', 'Team', 'Opponent', 'W/L', 'Final',\n",
    "                 'POSS', 'OPP_POSS',\n",
    "                 'PPP', 'OPP_PPP', 'FTA%', 'OPP_FTA%',\n",
    "                 'ORB%', 'DRB%', 'REB%', 'REB',\n",
    "                 'TO%', 'OPP_TO%',\n",
    "                 'FGA', 'FG%', 'OPP_FGA', 'OPP_FG%',\n",
    "                 '3PA', '3P%', 'OPP_3PA', 'OPP_3P%',\n",
    "                 'FTA', 'FT%', 'OPP_FTA', 'OPP_FT%']\n",
    "\n",
    "for c in selected_cols:\n",
    "    if (wnba_logs[c].dtype in [int, float]) and (c not in ['PPP', 'OPP_PPP']):\n",
    "        wnba_logs[c] = wnba_logs[c].round(1)\n",
    "    else:\n",
    "        pass\n",
    "    \n",
    "wnba_logs = wnba_logs[selected_cols]"
   ]
  },
  {
   "cell_type": "code",
   "execution_count": 22,
   "id": "d216741b",
   "metadata": {},
   "outputs": [],
   "source": [
    "wnba_logs.to_csv(\"wnba_logs.csv\")"
   ]
  },
  {
   "cell_type": "code",
   "execution_count": null,
   "id": "b1291e62",
   "metadata": {},
   "outputs": [],
   "source": []
  }
 ],
 "metadata": {
  "kernelspec": {
   "display_name": "Python 3 (ipykernel)",
   "language": "python",
   "name": "python3"
  },
  "language_info": {
   "codemirror_mode": {
    "name": "ipython",
    "version": 3
   },
   "file_extension": ".py",
   "mimetype": "text/x-python",
   "name": "python",
   "nbconvert_exporter": "python",
   "pygments_lexer": "ipython3",
   "version": "3.9.13"
  }
 },
 "nbformat": 4,
 "nbformat_minor": 5
}
