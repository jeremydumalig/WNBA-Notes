{
 "cells": [
  {
   "cell_type": "markdown",
   "metadata": {
    "id": "thXw8Lz0481b"
   },
   "source": [
    "# Back-End Code"
   ]
  },
  {
   "cell_type": "code",
   "execution_count": 28,
   "metadata": {
    "colab": {
     "base_uri": "https://localhost:8080/",
     "height": 17
    },
    "id": "bXXMDQfu48gj",
    "outputId": "9b87d7a8-6723-4069-a128-e943ec8d3653"
   },
   "outputs": [
    {
     "data": {
      "application/javascript": [
       "google.colab.output.setIframeHeight(0, true, {maxHeight: 5000})"
      ],
      "text/plain": [
       "<IPython.core.display.Javascript object>"
      ]
     },
     "metadata": {},
     "output_type": "display_data"
    }
   ],
   "source": [
    "import pandas as pd\n",
    "import numpy as np\n",
    "import math\n",
    "from ipywidgets import interact, interactive, fixed, interact_manual\n",
    "import ipywidgets as widgets\n",
    "from IPython.display import clear_output\n",
    "from IPython.display import Javascript\n",
    "from IPython.display import display, HTML\n",
    "\n",
    "pd.options.mode.chained_assignment = None\n",
    "pd.set_option('display.max_rows', None)\n",
    "pd.set_option('display.max_columns', None)\n",
    "pd.set_option('display.max_colwidth', None)\n",
    "\n",
    "def resize_colab_cell():\n",
    "  display(Javascript('google.colab.output.setIframeHeight(0, true, {maxHeight: 5000})'))\n",
    "get_ipython().events.register('pre_run_cell', resize_colab_cell)\n",
    "\n",
    "try:\n",
    "    import piplite\n",
    "    await piplite.install(['ipywidgets'])\n",
    "except ImportError:\n",
    "    pass\n",
    "from ipywidgets import interact, interactive, fixed, interact_manual\n",
    "import ipywidgets as widgets"
   ]
  },
  {
   "cell_type": "code",
   "execution_count": 27,
   "metadata": {
    "colab": {
     "base_uri": "https://localhost:8080/"
    },
    "id": "P2oKOQyt43hR",
    "outputId": "bae4e3b8-4a76-473a-851a-219d48d97ba5"
   },
   "outputs": [
    {
     "data": {
      "application/javascript": [
       "google.colab.output.setIframeHeight(0, true, {maxHeight: 5000})"
      ],
      "text/plain": [
       "<IPython.core.display.Javascript object>"
      ]
     },
     "metadata": {},
     "output_type": "display_data"
    }
   ],
   "source": [
    "notes = pd.read_csv(\"https://docs.google.com/spreadsheets/d/1kd7Qf84vHV6UmooAY0nnHQqXx7vYfoMec2VQxOlffuY/edit#gid=1399248464\".replace('/edit#gid=', '/export?format=csv&gid='))\n",
    "\n",
    "notes['Date'] = pd.to_datetime(notes['Date'])\n",
    "notes['Matchup'] = notes.apply(lambda row : set([row.Team, row.Opponent]), axis=1).astype(str)\n",
    "\n",
    "notes = notes.sort_values('Date')\n",
    "notes = notes.set_index('Date')\n",
    "notes = notes.replace(np.nan, \"\")"
   ]
  },
  {
   "cell_type": "code",
   "execution_count": 12,
   "metadata": {
    "colab": {
     "base_uri": "https://localhost:8080/"
    },
    "id": "pJEeqJrCW_47",
    "outputId": "b29b3ad3-aa91-4ea2-e455-44b40f3e7932"
   },
   "outputs": [
    {
     "data": {
      "application/javascript": [
       "google.colab.output.setIframeHeight(0, true, {maxHeight: 5000})"
      ],
      "text/plain": [
       "<IPython.core.display.Javascript object>"
      ]
     },
     "metadata": {},
     "output_type": "display_data"
    }
   ],
   "source": [
    "postgame = pd.read_csv(\"https://docs.google.com/spreadsheets/d/1iZ9zNNL9OTJZDWIeNIAMZnSDKb_rCvMO-H-2XT-w3vY/edit#gid=1024407848\".replace('/edit#gid=', '/export?format=csv&gid='))\n",
    "\n",
    "postgame['Date'] = pd.to_datetime(postgame['Date'])\n",
    "postgame['Matchup'] = postgame.apply(lambda row : set([row.Away, row.Home]), axis=1).astype(str)\n",
    "\n",
    "postgame = postgame.replace(np.nan, \"\")"
   ]
  },
  {
   "cell_type": "code",
   "execution_count": 13,
   "metadata": {
    "colab": {
     "base_uri": "https://localhost:8080/",
     "height": 17
    },
    "id": "3eSJF1r1cgT1",
    "outputId": "8f68c230-8f70-4ebd-8698-d0cf9e94dc84"
   },
   "outputs": [
    {
     "data": {
      "application/javascript": [
       "google.colab.output.setIframeHeight(0, true, {maxHeight: 5000})"
      ],
      "text/plain": [
       "<IPython.core.display.Javascript object>"
      ]
     },
     "metadata": {},
     "output_type": "display_data"
    }
   ],
   "source": [
    "teams_df = pd.read_csv(\"https://raw.githubusercontent.com/jeremydumalig/WNBA-Notes/main/wnba_teams.csv\")\n",
    "\n",
    "teams_dict = teams_df.set_index('Abbreviation')['Team'].to_dict()\n",
    "\n",
    "teams = list(teams_df.Team.values)"
   ]
  },
  {
   "cell_type": "code",
   "execution_count": 14,
   "metadata": {
    "colab": {
     "base_uri": "https://localhost:8080/",
     "height": 17
    },
    "id": "eYi92HMfbCUB",
    "outputId": "5d75870c-e03d-498f-d1d4-dd09d89be6e1"
   },
   "outputs": [
    {
     "data": {
      "application/javascript": [
       "google.colab.output.setIframeHeight(0, true, {maxHeight: 5000})"
      ],
      "text/plain": [
       "<IPython.core.display.Javascript object>"
      ]
     },
     "metadata": {},
     "output_type": "display_data"
    }
   ],
   "source": [
    "logs = pd.read_csv(\"https://raw.githubusercontent.com/jeremydumalig/WNBA-Notes/main/wnba_logs.csv\").iloc[:, 1:]\n",
    "\n",
    "logs['Date'] = pd.to_datetime(logs['Date'])\n",
    "logs['Team'] = logs['Team'].map(teams_dict)\n",
    "logs['Opponent'] = logs['Opponent'].map(teams_dict)\n",
    "logs['Matchup'] = logs.apply(lambda row : set([row.Team, row.Opponent]), axis=1).astype(str)\n",
    "\n",
    "logs = logs.set_index('Date')\n",
    "logs = logs.drop(['Team', 'Opponent'], axis=1)"
   ]
  },
  {
   "cell_type": "code",
   "execution_count": 15,
   "metadata": {
    "colab": {
     "base_uri": "https://localhost:8080/",
     "height": 17
    },
    "id": "kygLCUS85lJ5",
    "outputId": "c15b6222-5c0d-41c0-d9d0-ef1902a88b10"
   },
   "outputs": [
    {
     "data": {
      "application/javascript": [
       "google.colab.output.setIframeHeight(0, true, {maxHeight: 5000})"
      ],
      "text/plain": [
       "<IPython.core.display.Javascript object>"
      ]
     },
     "metadata": {},
     "output_type": "display_data"
    }
   ],
   "source": [
    "def display_df(df):\n",
    "  display( HTML( df.to_html().replace(\"\\\\n\",\"<br>\") ) )\n",
    "\n",
    "def pick_player(Player):\n",
    "  global player_df\n",
    "  player_df = team_df[(team_df.Player == Player)]\n",
    "  player_df = player_df[['Team', 'Opponent', 'Context', 'Notes', 'Score']]\n",
    "\n",
    "  display_df( player_df )\n",
    "\n",
    "def pick_team_note(Team):\n",
    "  global team_note\n",
    "  team_note = pd.merge(type_df[(type_df.Team == Team)], \n",
    "                       postgame, \n",
    "                       on=['Date', 'Matchup'],\n",
    "                       how='left')\n",
    "  team_note = team_note.merge(logs,\n",
    "                              on=['Date', 'Matchup'],\n",
    "                              how='left')\n",
    "\n",
    "  team_note = team_note.set_index('Date')\n",
    "  team_note = team_note[['Team', 'Opponent', 'Context_x', 'Score', 'Notes_x', 'Notes_y']]\n",
    "  team_note.columns = ['Team', 'Opponent', 'Context', 'Score', 'Notes', 'Postgame']\n",
    "\n",
    "  display_df( team_note )\n",
    "\n",
    "def pick_team_player(Team):\n",
    "  global team_df\n",
    "  team_df = type_df[(type_df.Team == Team)]\n",
    "\n",
    "  interact(pick_player, Player=list(pd.unique(team_df.Player)));\n",
    "\n",
    "def pick_type(Type):\n",
    "  global type_df\n",
    "  type_df = notes[(notes.Type == Type)]\n",
    "\n",
    "  if Type == \"Team\":\n",
    "    type_df = type_df.drop('Player', axis=1)\n",
    "\n",
    "    interact(pick_team_note, Team=teams);\n",
    "  elif Type == \"Player\":\n",
    "    interact(pick_team_player, Team=teams);\n",
    "  else:\n",
    "    display(type_df)"
   ]
  },
  {
   "cell_type": "markdown",
   "metadata": {
    "id": "7j_lZa4v5lba"
   },
   "source": [
    "# Dashboard"
   ]
  },
  {
   "cell_type": "code",
   "execution_count": 16,
   "metadata": {
    "colab": {
     "base_uri": "https://localhost:8080/",
     "height": 263,
     "referenced_widgets": [
      "31af1a312c1744e4941e3bee7a8f3ca8",
      "f8dc31406c9040b4a5c358726447a0be",
      "d2678ead405c4385b714c8318679785e",
      "f7616c73b0e24306a909d1d22986bdf0",
      "e3d8734e32bd4ce5a19727e307457e64",
      "8cfc3a41aa054802b2e3864e9dfc9405",
      "606c0b486b334306ad4fe7325dabcd05",
      "315d204a4afb432b9e1be79957ade99f",
      "56906ac0e9da42278a470b395ac3ad75",
      "5bb275e5ed084cc5a6c0f6abe5eb55b9",
      "7bd18866cc7d43bfbcf5151e47f069d3",
      "9383cbdf69d2465ba6d2edae7c4d24a2",
      "6e0d0ccaed844f2d941bd7b2259f99b0",
      "0ad6f146bdd24c99bd68af115ce0be02"
     ]
    },
    "id": "L0qqmdxx5GmW",
    "outputId": "7746d2ce-59a0-450d-c15b-f591537af186"
   },
   "outputs": [
    {
     "data": {
      "application/javascript": [
       "google.colab.output.setIframeHeight(0, true, {maxHeight: 5000})"
      ],
      "text/plain": [
       "<IPython.core.display.Javascript object>"
      ]
     },
     "metadata": {},
     "output_type": "display_data"
    },
    {
     "data": {
      "application/vnd.jupyter.widget-view+json": {
       "model_id": "3b4a27218ac145d19963e92475b2126b",
       "version_major": 2,
       "version_minor": 0
      },
      "text/plain": [
       "interactive(children=(Dropdown(description='Type', options=('Team', 'Player'), value='Team'), Output()), _dom_…"
      ]
     },
     "metadata": {},
     "output_type": "display_data"
    }
   ],
   "source": [
    "interact(pick_type, Type=[\"Team\", \"Player\"]);"
   ]
  }
 ],
 "metadata": {
  "colab": {
   "collapsed_sections": [
    "thXw8Lz0481b"
   ],
   "provenance": []
  },
  "kernelspec": {
   "display_name": "Python 3 (ipykernel)",
   "language": "python",
   "name": "python3"
  },
  "language_info": {
   "codemirror_mode": {
    "name": "ipython",
    "version": 3
   },
   "file_extension": ".py",
   "mimetype": "text/x-python",
   "name": "python",
   "nbconvert_exporter": "python",
   "pygments_lexer": "ipython3",
   "version": "3.9.13"
  },
  "widgets": {
   "application/vnd.jupyter.widget-state+json": {
    "0ad6f146bdd24c99bd68af115ce0be02": {
     "model_module": "@jupyter-widgets/base",
     "model_module_version": "1.2.0",
     "model_name": "LayoutModel",
     "state": {
      "_model_module": "@jupyter-widgets/base",
      "_model_module_version": "1.2.0",
      "_model_name": "LayoutModel",
      "_view_count": null,
      "_view_module": "@jupyter-widgets/base",
      "_view_module_version": "1.2.0",
      "_view_name": "LayoutView",
      "align_content": null,
      "align_items": null,
      "align_self": null,
      "border": null,
      "bottom": null,
      "display": null,
      "flex": null,
      "flex_flow": null,
      "grid_area": null,
      "grid_auto_columns": null,
      "grid_auto_flow": null,
      "grid_auto_rows": null,
      "grid_column": null,
      "grid_gap": null,
      "grid_row": null,
      "grid_template_areas": null,
      "grid_template_columns": null,
      "grid_template_rows": null,
      "height": null,
      "justify_content": null,
      "justify_items": null,
      "left": null,
      "margin": null,
      "max_height": null,
      "max_width": null,
      "min_height": null,
      "min_width": null,
      "object_fit": null,
      "object_position": null,
      "order": null,
      "overflow": null,
      "overflow_x": null,
      "overflow_y": null,
      "padding": null,
      "right": null,
      "top": null,
      "visibility": null,
      "width": null
     }
    },
    "315d204a4afb432b9e1be79957ade99f": {
     "model_module": "@jupyter-widgets/base",
     "model_module_version": "1.2.0",
     "model_name": "LayoutModel",
     "state": {
      "_model_module": "@jupyter-widgets/base",
      "_model_module_version": "1.2.0",
      "_model_name": "LayoutModel",
      "_view_count": null,
      "_view_module": "@jupyter-widgets/base",
      "_view_module_version": "1.2.0",
      "_view_name": "LayoutView",
      "align_content": null,
      "align_items": null,
      "align_self": null,
      "border": null,
      "bottom": null,
      "display": null,
      "flex": null,
      "flex_flow": null,
      "grid_area": null,
      "grid_auto_columns": null,
      "grid_auto_flow": null,
      "grid_auto_rows": null,
      "grid_column": null,
      "grid_gap": null,
      "grid_row": null,
      "grid_template_areas": null,
      "grid_template_columns": null,
      "grid_template_rows": null,
      "height": null,
      "justify_content": null,
      "justify_items": null,
      "left": null,
      "margin": null,
      "max_height": null,
      "max_width": null,
      "min_height": null,
      "min_width": null,
      "object_fit": null,
      "object_position": null,
      "order": null,
      "overflow": null,
      "overflow_x": null,
      "overflow_y": null,
      "padding": null,
      "right": null,
      "top": null,
      "visibility": null,
      "width": null
     }
    },
    "31af1a312c1744e4941e3bee7a8f3ca8": {
     "model_module": "@jupyter-widgets/controls",
     "model_module_version": "1.5.0",
     "model_name": "VBoxModel",
     "state": {
      "_dom_classes": [
       "widget-interact"
      ],
      "_model_module": "@jupyter-widgets/controls",
      "_model_module_version": "1.5.0",
      "_model_name": "VBoxModel",
      "_view_count": null,
      "_view_module": "@jupyter-widgets/controls",
      "_view_module_version": "1.5.0",
      "_view_name": "VBoxView",
      "box_style": "",
      "children": [
       "IPY_MODEL_f8dc31406c9040b4a5c358726447a0be",
       "IPY_MODEL_d2678ead405c4385b714c8318679785e"
      ],
      "layout": "IPY_MODEL_f7616c73b0e24306a909d1d22986bdf0"
     }
    },
    "56906ac0e9da42278a470b395ac3ad75": {
     "model_module": "@jupyter-widgets/controls",
     "model_module_version": "1.5.0",
     "model_name": "DropdownModel",
     "state": {
      "_dom_classes": [],
      "_model_module": "@jupyter-widgets/controls",
      "_model_module_version": "1.5.0",
      "_model_name": "DropdownModel",
      "_options_labels": [
       "Atlanta Dream",
       "Chicago Sky",
       "Connecticut Sun",
       "Dallas Wings",
       "Minnesota Lynx",
       "Las Vegas Aces",
       "Los Angeles Sparks",
       "Seattle Storm",
       "New York Liberty",
       "Indiana Fever",
       "Washington Mystics",
       "Phoenix Mercury"
      ],
      "_view_count": null,
      "_view_module": "@jupyter-widgets/controls",
      "_view_module_version": "1.5.0",
      "_view_name": "DropdownView",
      "description": "Team",
      "description_tooltip": null,
      "disabled": false,
      "index": 1,
      "layout": "IPY_MODEL_9383cbdf69d2465ba6d2edae7c4d24a2",
      "style": "IPY_MODEL_6e0d0ccaed844f2d941bd7b2259f99b0"
     }
    },
    "5bb275e5ed084cc5a6c0f6abe5eb55b9": {
     "model_module": "@jupyter-widgets/output",
     "model_module_version": "1.0.0",
     "model_name": "OutputModel",
     "state": {
      "_dom_classes": [],
      "_model_module": "@jupyter-widgets/output",
      "_model_module_version": "1.0.0",
      "_model_name": "OutputModel",
      "_view_count": null,
      "_view_module": "@jupyter-widgets/output",
      "_view_module_version": "1.0.0",
      "_view_name": "OutputView",
      "layout": "IPY_MODEL_0ad6f146bdd24c99bd68af115ce0be02",
      "msg_id": "",
      "outputs": [
       {
        "data": {
         "text/html": "<table border=\"1\" class=\"dataframe\">\n  <thead>\n    <tr style=\"text-align: right;\">\n      <th></th>\n      <th>Team</th>\n      <th>Opponent</th>\n      <th>Context</th>\n      <th>Score</th>\n      <th>Notes</th>\n      <th>Postgame</th>\n    </tr>\n    <tr>\n      <th>Date</th>\n      <th></th>\n      <th></th>\n      <th></th>\n      <th></th>\n      <th></th>\n      <th></th>\n    </tr>\n  </thead>\n  <tbody>\n    <tr>\n      <th>2023-05-26</th>\n      <td>Chicago Sky</td>\n      <td>Washington Mystics</td>\n      <td>Home opener</td>\n      <td>3</td>\n      <td>- Sloppy with the ball, forced some passes (23 turnovers)<br>- Could've guarded off-ball screens better<br>- Help defense was decent, didn't give up that many free throws<br>- Great transition team</td>\n      <td>- Pretty even on the rebounds<br>- Mystics outscored Sky 16-9 on free throws<br>- Sky turned it over 23 times to the Mystics' 16<br>- Sky scored 24 points off turnovers though (to Mystics' 14)<br>- Sky shot 28.6% from deep (6 3PM), Mystics shot 41.2 (7 3PM)<br>- Mystics really didn't shoot great at 36.4% from the field</td>\n    </tr>\n  </tbody>\n</table>",
         "text/plain": "<IPython.core.display.HTML object>"
        },
        "metadata": {},
        "output_type": "display_data"
       }
      ]
     }
    },
    "606c0b486b334306ad4fe7325dabcd05": {
     "model_module": "@jupyter-widgets/controls",
     "model_module_version": "1.5.0",
     "model_name": "VBoxModel",
     "state": {
      "_dom_classes": [
       "widget-interact"
      ],
      "_model_module": "@jupyter-widgets/controls",
      "_model_module_version": "1.5.0",
      "_model_name": "VBoxModel",
      "_view_count": null,
      "_view_module": "@jupyter-widgets/controls",
      "_view_module_version": "1.5.0",
      "_view_name": "VBoxView",
      "box_style": "",
      "children": [
       "IPY_MODEL_56906ac0e9da42278a470b395ac3ad75",
       "IPY_MODEL_5bb275e5ed084cc5a6c0f6abe5eb55b9"
      ],
      "layout": "IPY_MODEL_7bd18866cc7d43bfbcf5151e47f069d3"
     }
    },
    "6e0d0ccaed844f2d941bd7b2259f99b0": {
     "model_module": "@jupyter-widgets/controls",
     "model_module_version": "1.5.0",
     "model_name": "DescriptionStyleModel",
     "state": {
      "_model_module": "@jupyter-widgets/controls",
      "_model_module_version": "1.5.0",
      "_model_name": "DescriptionStyleModel",
      "_view_count": null,
      "_view_module": "@jupyter-widgets/base",
      "_view_module_version": "1.2.0",
      "_view_name": "StyleView",
      "description_width": ""
     }
    },
    "7bd18866cc7d43bfbcf5151e47f069d3": {
     "model_module": "@jupyter-widgets/base",
     "model_module_version": "1.2.0",
     "model_name": "LayoutModel",
     "state": {
      "_model_module": "@jupyter-widgets/base",
      "_model_module_version": "1.2.0",
      "_model_name": "LayoutModel",
      "_view_count": null,
      "_view_module": "@jupyter-widgets/base",
      "_view_module_version": "1.2.0",
      "_view_name": "LayoutView",
      "align_content": null,
      "align_items": null,
      "align_self": null,
      "border": null,
      "bottom": null,
      "display": null,
      "flex": null,
      "flex_flow": null,
      "grid_area": null,
      "grid_auto_columns": null,
      "grid_auto_flow": null,
      "grid_auto_rows": null,
      "grid_column": null,
      "grid_gap": null,
      "grid_row": null,
      "grid_template_areas": null,
      "grid_template_columns": null,
      "grid_template_rows": null,
      "height": null,
      "justify_content": null,
      "justify_items": null,
      "left": null,
      "margin": null,
      "max_height": null,
      "max_width": null,
      "min_height": null,
      "min_width": null,
      "object_fit": null,
      "object_position": null,
      "order": null,
      "overflow": null,
      "overflow_x": null,
      "overflow_y": null,
      "padding": null,
      "right": null,
      "top": null,
      "visibility": null,
      "width": null
     }
    },
    "8cfc3a41aa054802b2e3864e9dfc9405": {
     "model_module": "@jupyter-widgets/controls",
     "model_module_version": "1.5.0",
     "model_name": "DescriptionStyleModel",
     "state": {
      "_model_module": "@jupyter-widgets/controls",
      "_model_module_version": "1.5.0",
      "_model_name": "DescriptionStyleModel",
      "_view_count": null,
      "_view_module": "@jupyter-widgets/base",
      "_view_module_version": "1.2.0",
      "_view_name": "StyleView",
      "description_width": ""
     }
    },
    "9383cbdf69d2465ba6d2edae7c4d24a2": {
     "model_module": "@jupyter-widgets/base",
     "model_module_version": "1.2.0",
     "model_name": "LayoutModel",
     "state": {
      "_model_module": "@jupyter-widgets/base",
      "_model_module_version": "1.2.0",
      "_model_name": "LayoutModel",
      "_view_count": null,
      "_view_module": "@jupyter-widgets/base",
      "_view_module_version": "1.2.0",
      "_view_name": "LayoutView",
      "align_content": null,
      "align_items": null,
      "align_self": null,
      "border": null,
      "bottom": null,
      "display": null,
      "flex": null,
      "flex_flow": null,
      "grid_area": null,
      "grid_auto_columns": null,
      "grid_auto_flow": null,
      "grid_auto_rows": null,
      "grid_column": null,
      "grid_gap": null,
      "grid_row": null,
      "grid_template_areas": null,
      "grid_template_columns": null,
      "grid_template_rows": null,
      "height": null,
      "justify_content": null,
      "justify_items": null,
      "left": null,
      "margin": null,
      "max_height": null,
      "max_width": null,
      "min_height": null,
      "min_width": null,
      "object_fit": null,
      "object_position": null,
      "order": null,
      "overflow": null,
      "overflow_x": null,
      "overflow_y": null,
      "padding": null,
      "right": null,
      "top": null,
      "visibility": null,
      "width": null
     }
    },
    "d2678ead405c4385b714c8318679785e": {
     "model_module": "@jupyter-widgets/output",
     "model_module_version": "1.0.0",
     "model_name": "OutputModel",
     "state": {
      "_dom_classes": [],
      "_model_module": "@jupyter-widgets/output",
      "_model_module_version": "1.0.0",
      "_model_name": "OutputModel",
      "_view_count": null,
      "_view_module": "@jupyter-widgets/output",
      "_view_module_version": "1.0.0",
      "_view_name": "OutputView",
      "layout": "IPY_MODEL_315d204a4afb432b9e1be79957ade99f",
      "msg_id": "",
      "outputs": [
       {
        "data": {
         "application/vnd.jupyter.widget-view+json": {
          "model_id": "606c0b486b334306ad4fe7325dabcd05",
          "version_major": 2,
          "version_minor": 0
         },
         "text/plain": "interactive(children=(Dropdown(description='Team', options=('Atlanta Dream', 'Chicago Sky', 'Connecticut Sun',…"
        },
        "metadata": {},
        "output_type": "display_data"
       }
      ]
     }
    },
    "e3d8734e32bd4ce5a19727e307457e64": {
     "model_module": "@jupyter-widgets/base",
     "model_module_version": "1.2.0",
     "model_name": "LayoutModel",
     "state": {
      "_model_module": "@jupyter-widgets/base",
      "_model_module_version": "1.2.0",
      "_model_name": "LayoutModel",
      "_view_count": null,
      "_view_module": "@jupyter-widgets/base",
      "_view_module_version": "1.2.0",
      "_view_name": "LayoutView",
      "align_content": null,
      "align_items": null,
      "align_self": null,
      "border": null,
      "bottom": null,
      "display": null,
      "flex": null,
      "flex_flow": null,
      "grid_area": null,
      "grid_auto_columns": null,
      "grid_auto_flow": null,
      "grid_auto_rows": null,
      "grid_column": null,
      "grid_gap": null,
      "grid_row": null,
      "grid_template_areas": null,
      "grid_template_columns": null,
      "grid_template_rows": null,
      "height": null,
      "justify_content": null,
      "justify_items": null,
      "left": null,
      "margin": null,
      "max_height": null,
      "max_width": null,
      "min_height": null,
      "min_width": null,
      "object_fit": null,
      "object_position": null,
      "order": null,
      "overflow": null,
      "overflow_x": null,
      "overflow_y": null,
      "padding": null,
      "right": null,
      "top": null,
      "visibility": null,
      "width": null
     }
    },
    "f7616c73b0e24306a909d1d22986bdf0": {
     "model_module": "@jupyter-widgets/base",
     "model_module_version": "1.2.0",
     "model_name": "LayoutModel",
     "state": {
      "_model_module": "@jupyter-widgets/base",
      "_model_module_version": "1.2.0",
      "_model_name": "LayoutModel",
      "_view_count": null,
      "_view_module": "@jupyter-widgets/base",
      "_view_module_version": "1.2.0",
      "_view_name": "LayoutView",
      "align_content": null,
      "align_items": null,
      "align_self": null,
      "border": null,
      "bottom": null,
      "display": null,
      "flex": null,
      "flex_flow": null,
      "grid_area": null,
      "grid_auto_columns": null,
      "grid_auto_flow": null,
      "grid_auto_rows": null,
      "grid_column": null,
      "grid_gap": null,
      "grid_row": null,
      "grid_template_areas": null,
      "grid_template_columns": null,
      "grid_template_rows": null,
      "height": null,
      "justify_content": null,
      "justify_items": null,
      "left": null,
      "margin": null,
      "max_height": null,
      "max_width": null,
      "min_height": null,
      "min_width": null,
      "object_fit": null,
      "object_position": null,
      "order": null,
      "overflow": null,
      "overflow_x": null,
      "overflow_y": null,
      "padding": null,
      "right": null,
      "top": null,
      "visibility": null,
      "width": null
     }
    },
    "f8dc31406c9040b4a5c358726447a0be": {
     "model_module": "@jupyter-widgets/controls",
     "model_module_version": "1.5.0",
     "model_name": "DropdownModel",
     "state": {
      "_dom_classes": [],
      "_model_module": "@jupyter-widgets/controls",
      "_model_module_version": "1.5.0",
      "_model_name": "DropdownModel",
      "_options_labels": [
       "Team",
       "Player"
      ],
      "_view_count": null,
      "_view_module": "@jupyter-widgets/controls",
      "_view_module_version": "1.5.0",
      "_view_name": "DropdownView",
      "description": "Type",
      "description_tooltip": null,
      "disabled": false,
      "index": 0,
      "layout": "IPY_MODEL_e3d8734e32bd4ce5a19727e307457e64",
      "style": "IPY_MODEL_8cfc3a41aa054802b2e3864e9dfc9405"
     }
    }
   }
  }
 },
 "nbformat": 4,
 "nbformat_minor": 1
}
